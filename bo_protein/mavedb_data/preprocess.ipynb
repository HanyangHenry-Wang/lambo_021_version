{
 "cells": [
  {
   "cell_type": "code",
   "execution_count": null,
   "metadata": {},
   "outputs": [],
   "source": [
    "import pandas as pd\n",
    "import utils as utils"
   ]
  },
  {
   "cell_type": "code",
   "execution_count": null,
   "metadata": {},
   "outputs": [],
   "source": [
    "df = pd.read_csv(\"brca1_data/brca1_raw.csv\")\n",
    "df = df[[\"hgvs_pro\", \"score\"]]\n",
    "df = df[df[\"score\"].notna()]\n",
    "df = utils.mut_df_to_seq_df(utils.brca1_ref_aa, df)\n",
    "df.to_csv(\"brca1_data/brca1_processed.csv\", index=False)\n",
    "df.head()"
   ]
  },
  {
   "cell_type": "code",
   "execution_count": null,
   "metadata": {},
   "outputs": [],
   "source": [
    "df = pd.read_csv(\"e4b_data/e4b_raw.csv\")\n",
    "df = df[[\"hgvs_pro\", \"score\"]]\n",
    "df = df[df[\"score\"].notna()]\n",
    "df = utils.mut_df_to_seq_df(utils.e4b_ref_aa, df)\n",
    "df.to_csv(\"e4b_data/e4b_processed.csv\", index=False)\n",
    "df.head()"
   ]
  },
  {
   "cell_type": "code",
   "execution_count": null,
   "metadata": {},
   "outputs": [],
   "source": [
    "df = pd.read_csv(\"ube2i_data/ube2i_raw.csv\")\n",
    "df = df[[\"hgvs_pro\", \"score\"]]\n",
    "df = df[df[\"score\"].notna()]\n",
    "df = utils.mut_df_to_seq_df(utils.ube2i_ref_aa, df)\n",
    "df.to_csv(\"ube2i_data/ube2i_processed.csv\", index=False)\n",
    "df.head()"
   ]
  },
  {
   "cell_type": "code",
   "execution_count": null,
   "metadata": {},
   "outputs": [],
   "source": [
    "df = pd.read_csv(\"yap65_data/yap65_raw.csv\")\n",
    "df = df[[\"hgvs_pro\", \"score\"]]\n",
    "df = df[df[\"score\"].notna()]\n",
    "df = utils.mut_df_to_seq_df(utils.yap65_ref_aa, df)\n",
    "df.to_csv(\"yap65_data/yap65_processed.csv\", index=False)\n",
    "df.head()"
   ]
  }
 ],
 "metadata": {
  "kernelspec": {
   "display_name": "Python 3",
   "language": "python",
   "name": "python3"
  },
  "language_info": {
   "codemirror_mode": {
    "name": "ipython",
    "version": 3
   },
   "file_extension": ".py",
   "mimetype": "text/x-python",
   "name": "python",
   "nbconvert_exporter": "python",
   "pygments_lexer": "ipython3",
   "version": "3.8.3"
  }
 },
 "nbformat": 4,
 "nbformat_minor": 4
}
